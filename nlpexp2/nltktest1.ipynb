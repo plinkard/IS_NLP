{
 "cells": [
  {
   "cell_type": "code",
   "execution_count": 1,
   "id": "a4ac385b-9440-49fa-900b-b509a49eeffa",
   "metadata": {},
   "outputs": [
    {
     "name": "stdout",
     "output_type": "stream",
     "text": [
      "Requirement already satisfied: ipydeps in /Users/ellamcchesney/opt/anaconda3/lib/python3.9/site-packages (2020.240.0)\n",
      "Requirement already satisfied: pip in /Users/ellamcchesney/opt/anaconda3/lib/python3.9/site-packages (from ipydeps) (21.2.4)\n",
      "Requirement already satisfied: pypki2>=0.10.1 in /Users/ellamcchesney/opt/anaconda3/lib/python3.9/site-packages (from ipydeps) (0.11.0)\n",
      "Requirement already satisfied: setuptools in /Users/ellamcchesney/opt/anaconda3/lib/python3.9/site-packages (from ipydeps) (58.0.4)\n",
      "Requirement already satisfied: pyOpenSSL in /Users/ellamcchesney/opt/anaconda3/lib/python3.9/site-packages (from pypki2>=0.10.1->ipydeps) (21.0.0)\n",
      "Requirement already satisfied: six>=1.5.2 in /Users/ellamcchesney/opt/anaconda3/lib/python3.9/site-packages (from pyOpenSSL->pypki2>=0.10.1->ipydeps) (1.16.0)\n",
      "Requirement already satisfied: cryptography>=3.3 in /Users/ellamcchesney/opt/anaconda3/lib/python3.9/site-packages (from pyOpenSSL->pypki2>=0.10.1->ipydeps) (3.4.8)\n",
      "Requirement already satisfied: cffi>=1.12 in /Users/ellamcchesney/opt/anaconda3/lib/python3.9/site-packages (from cryptography>=3.3->pyOpenSSL->pypki2>=0.10.1->ipydeps) (1.14.6)\n",
      "Requirement already satisfied: pycparser in /Users/ellamcchesney/opt/anaconda3/lib/python3.9/site-packages (from cffi>=1.12->cryptography>=3.3->pyOpenSSL->pypki2>=0.10.1->ipydeps) (2.20)\n"
     ]
    },
    {
     "data": {
      "text/html": [
       "<div style=\"font-family:monospace;background:#e6fee6;color:black\"><pre>Packages already installed: pandas</pre></div>"
      ],
      "text/plain": [
       "<IPython.core.display.HTML object>"
      ]
     },
     "metadata": {},
     "output_type": "display_data"
    },
    {
     "data": {
      "text/html": [
       "<div style=\"font-family:monospace;background:lightyellow;color:black\"><pre>No new packages installed</pre></div>"
      ],
      "text/plain": [
       "<IPython.core.display.HTML object>"
      ]
     },
     "metadata": {},
     "output_type": "display_data"
    },
    {
     "data": {
      "text/html": [
       "<div style=\"font-family:monospace;background:#eee;color:black\"><pre>Done</pre></div>"
      ],
      "text/plain": [
       "<IPython.core.display.HTML object>"
      ]
     },
     "metadata": {},
     "output_type": "display_data"
    },
    {
     "data": {
      "text/html": [
       "<div style=\"font-family:monospace;background:#e6fee6;color:black\"><pre>Packages already installed: spacy</pre></div>"
      ],
      "text/plain": [
       "<IPython.core.display.HTML object>"
      ]
     },
     "metadata": {},
     "output_type": "display_data"
    },
    {
     "data": {
      "text/html": [
       "<div style=\"font-family:monospace;background:lightyellow;color:black\"><pre>No new packages installed</pre></div>"
      ],
      "text/plain": [
       "<IPython.core.display.HTML object>"
      ]
     },
     "metadata": {},
     "output_type": "display_data"
    },
    {
     "data": {
      "text/html": [
       "<div style=\"font-family:monospace;background:#eee;color:black\"><pre>Done</pre></div>"
      ],
      "text/plain": [
       "<IPython.core.display.HTML object>"
      ]
     },
     "metadata": {},
     "output_type": "display_data"
    },
    {
     "data": {
      "text/html": [
       "<div style=\"font-family:monospace;background:#e6fee6;color:black\"><pre>Packages already installed: dframcy</pre></div>"
      ],
      "text/plain": [
       "<IPython.core.display.HTML object>"
      ]
     },
     "metadata": {},
     "output_type": "display_data"
    },
    {
     "data": {
      "text/html": [
       "<div style=\"font-family:monospace;background:lightyellow;color:black\"><pre>No new packages installed</pre></div>"
      ],
      "text/plain": [
       "<IPython.core.display.HTML object>"
      ]
     },
     "metadata": {},
     "output_type": "display_data"
    },
    {
     "data": {
      "text/html": [
       "<div style=\"font-family:monospace;background:#eee;color:black\"><pre>Done</pre></div>"
      ],
      "text/plain": [
       "<IPython.core.display.HTML object>"
      ]
     },
     "metadata": {},
     "output_type": "display_data"
    }
   ],
   "source": [
    "import sys\n",
    "!{sys.executable} -m pip install ipydeps\n",
    "import ipydeps\n",
    "ipydeps.pip('pandas')\n",
    "import os\n",
    "import pandas as pd\n",
    "\n",
    "ipydeps.pip('spacy')\n",
    "import spacy\n",
    "os.chdir('/Users/ellamcchesney/opt/anaconda3/lib/python3.9/site-packages')\n",
    "nlp = spacy.load('en_core_web_md')\n",
    "ipydeps.pip('dframcy')"
   ]
  },
  {
   "cell_type": "code",
   "execution_count": 2,
   "id": "01602e82-b818-4035-af25-f99d4cb3ba44",
   "metadata": {},
   "outputs": [
    {
     "data": {
      "text/html": [
       "<div style=\"font-family:monospace;background:#e6fee6;color:black\"><pre>Packages already installed: nltk</pre></div>"
      ],
      "text/plain": [
       "<IPython.core.display.HTML object>"
      ]
     },
     "metadata": {},
     "output_type": "display_data"
    },
    {
     "data": {
      "text/html": [
       "<div style=\"font-family:monospace;background:lightyellow;color:black\"><pre>No new packages installed</pre></div>"
      ],
      "text/plain": [
       "<IPython.core.display.HTML object>"
      ]
     },
     "metadata": {},
     "output_type": "display_data"
    },
    {
     "data": {
      "text/html": [
       "<div style=\"font-family:monospace;background:#eee;color:black\"><pre>Done</pre></div>"
      ],
      "text/plain": [
       "<IPython.core.display.HTML object>"
      ]
     },
     "metadata": {},
     "output_type": "display_data"
    },
    {
     "name": "stderr",
     "output_type": "stream",
     "text": [
      "[nltk_data] Downloading package wordnet to\n",
      "[nltk_data]     /Users/ellamcchesney/nltk_data...\n",
      "[nltk_data]   Package wordnet is already up-to-date!\n"
     ]
    },
    {
     "data": {
      "text/plain": [
       "True"
      ]
     },
     "execution_count": 2,
     "metadata": {},
     "output_type": "execute_result"
    }
   ],
   "source": [
    "ipydeps.pip('nltk')\n",
    "import nltk\n",
    "nltk.download(\"wordnet\")"
   ]
  },
  {
   "cell_type": "code",
   "execution_count": 3,
   "id": "2f62fbec-c906-4007-9d92-b660387e96db",
   "metadata": {},
   "outputs": [
    {
     "data": {
      "text/html": [
       "<div style=\"font-family:monospace;background:#e6fee6;color:black\"><pre>Packages already installed: spacy-wordnet</pre></div>"
      ],
      "text/plain": [
       "<IPython.core.display.HTML object>"
      ]
     },
     "metadata": {},
     "output_type": "display_data"
    },
    {
     "data": {
      "text/html": [
       "<div style=\"font-family:monospace;background:lightyellow;color:black\"><pre>No new packages installed</pre></div>"
      ],
      "text/plain": [
       "<IPython.core.display.HTML object>"
      ]
     },
     "metadata": {},
     "output_type": "display_data"
    },
    {
     "data": {
      "text/html": [
       "<div style=\"font-family:monospace;background:#eee;color:black\"><pre>Done</pre></div>"
      ],
      "text/plain": [
       "<IPython.core.display.HTML object>"
      ]
     },
     "metadata": {},
     "output_type": "display_data"
    }
   ],
   "source": [
    "ipydeps.pip('spacy-wordnet')"
   ]
  },
  {
   "cell_type": "code",
   "execution_count": 4,
   "id": "a2ea7c86-2531-40a8-9ec2-15100d38ec92",
   "metadata": {},
   "outputs": [
    {
     "name": "stdout",
     "output_type": "stream",
     "text": [
      "before ['tok2vec', 'tagger', 'parser', 'attribute_ruler', 'lemmatizer', 'ner']\n",
      "after ['tok2vec', 'tagger', 'spacy_wordnet', 'parser', 'attribute_ruler', 'lemmatizer', 'ner']\n"
     ]
    }
   ],
   "source": [
    "from spacy_wordnet.wordnet_annotator import WordnetAnnotator\n",
    "\n",
    "print(\"before\", nlp.pipe_names)\n",
    "\n",
    "if \"WordnetAnnotator\" not in nlp.pipe_names:\n",
    "    nlp.add_pipe(\"spacy_wordnet\", after='tagger', config={'lang': nlp.lang})\n",
    "    \n",
    "print(\"after\", nlp.pipe_names)\n",
    "\n"
   ]
  },
  {
   "cell_type": "code",
   "execution_count": 5,
   "id": "3de52e3b-8343-4a82-b0be-f29d0def6623",
   "metadata": {},
   "outputs": [
    {
     "data": {
      "text/plain": [
       "[Synset('withdraw.v.01'),\n",
       " Synset('retire.v.02'),\n",
       " Synset('disengage.v.01'),\n",
       " Synset('recall.v.07'),\n",
       " Synset('swallow.v.05'),\n",
       " Synset('seclude.v.01'),\n",
       " Synset('adjourn.v.02'),\n",
       " Synset('bow_out.v.02'),\n",
       " Synset('withdraw.v.09'),\n",
       " Synset('retire.v.08'),\n",
       " Synset('retreat.v.04'),\n",
       " Synset('remove.v.01')]"
      ]
     },
     "execution_count": 5,
     "metadata": {},
     "output_type": "execute_result"
    }
   ],
   "source": [
    "token = nlp(\"withdraw\")[0]\n",
    "token._.wordnet.synsets()"
   ]
  },
  {
   "cell_type": "code",
   "execution_count": 6,
   "id": "691ef71e-043d-4012-90bd-26e3398a275a",
   "metadata": {},
   "outputs": [
    {
     "data": {
      "text/plain": [
       "[Lemma('withdraw.v.01.withdraw'),\n",
       " Lemma('withdraw.v.01.retreat'),\n",
       " Lemma('withdraw.v.01.pull_away'),\n",
       " Lemma('withdraw.v.01.draw_back'),\n",
       " Lemma('withdraw.v.01.recede'),\n",
       " Lemma('withdraw.v.01.pull_back'),\n",
       " Lemma('withdraw.v.01.retire'),\n",
       " Lemma('withdraw.v.01.move_back'),\n",
       " Lemma('retire.v.02.retire'),\n",
       " Lemma('retire.v.02.withdraw'),\n",
       " Lemma('disengage.v.01.disengage'),\n",
       " Lemma('disengage.v.01.withdraw'),\n",
       " Lemma('recall.v.07.recall'),\n",
       " Lemma('recall.v.07.call_in'),\n",
       " Lemma('recall.v.07.call_back'),\n",
       " Lemma('recall.v.07.withdraw'),\n",
       " Lemma('swallow.v.05.swallow'),\n",
       " Lemma('swallow.v.05.take_back'),\n",
       " Lemma('swallow.v.05.unsay'),\n",
       " Lemma('swallow.v.05.withdraw'),\n",
       " Lemma('seclude.v.01.seclude'),\n",
       " Lemma('seclude.v.01.sequester'),\n",
       " Lemma('seclude.v.01.sequestrate'),\n",
       " Lemma('seclude.v.01.withdraw'),\n",
       " Lemma('adjourn.v.02.adjourn'),\n",
       " Lemma('adjourn.v.02.withdraw'),\n",
       " Lemma('adjourn.v.02.retire'),\n",
       " Lemma('bow_out.v.02.bow_out'),\n",
       " Lemma('bow_out.v.02.withdraw'),\n",
       " Lemma('withdraw.v.09.withdraw'),\n",
       " Lemma('withdraw.v.09.draw'),\n",
       " Lemma('withdraw.v.09.take_out'),\n",
       " Lemma('withdraw.v.09.draw_off'),\n",
       " Lemma('retire.v.08.retire'),\n",
       " Lemma('retire.v.08.withdraw'),\n",
       " Lemma('retreat.v.04.retreat'),\n",
       " Lemma('retreat.v.04.pull_back'),\n",
       " Lemma('retreat.v.04.back_out'),\n",
       " Lemma('retreat.v.04.back_away'),\n",
       " Lemma('retreat.v.04.crawfish'),\n",
       " Lemma('retreat.v.04.crawfish_out'),\n",
       " Lemma('retreat.v.04.pull_in_one's_horns'),\n",
       " Lemma('retreat.v.04.withdraw'),\n",
       " Lemma('remove.v.01.remove'),\n",
       " Lemma('remove.v.01.take'),\n",
       " Lemma('remove.v.01.take_away'),\n",
       " Lemma('remove.v.01.withdraw')]"
      ]
     },
     "execution_count": 6,
     "metadata": {},
     "output_type": "execute_result"
    }
   ],
   "source": [
    "token._.wordnet.lemmas()"
   ]
  },
  {
   "cell_type": "code",
   "execution_count": 7,
   "id": "a02c83e7-6633-4d71-af06-b1b96d77c97e",
   "metadata": {},
   "outputs": [
    {
     "data": {
      "text/plain": [
       "['astronomy',\n",
       " 'school',\n",
       " 'telegraphy',\n",
       " 'industry',\n",
       " 'psychology',\n",
       " 'ethnology',\n",
       " 'ethnology',\n",
       " 'administration',\n",
       " 'school',\n",
       " 'finance',\n",
       " 'economy',\n",
       " 'exchange',\n",
       " 'banking',\n",
       " 'commerce',\n",
       " 'medicine',\n",
       " 'ethnology',\n",
       " 'university',\n",
       " 'school',\n",
       " 'buildings',\n",
       " 'factotum',\n",
       " 'agriculture',\n",
       " 'mechanics',\n",
       " 'gastronomy',\n",
       " 'meteorology',\n",
       " 'physics',\n",
       " 'basketball',\n",
       " 'anatomy',\n",
       " 'skiing',\n",
       " 'nautical',\n",
       " 'engineering',\n",
       " 'racing',\n",
       " 'home',\n",
       " 'drawing',\n",
       " 'dentistry',\n",
       " 'ethnology',\n",
       " 'mathematics',\n",
       " 'furniture',\n",
       " 'animal_husbandry',\n",
       " 'industry',\n",
       " 'economy',\n",
       " 'body_care',\n",
       " 'chemistry',\n",
       " 'medicine',\n",
       " 'surgery',\n",
       " 'vehicles',\n",
       " 'transport',\n",
       " 'atomic_physic',\n",
       " 'archaeology',\n",
       " 'hydraulics',\n",
       " 'oceanography',\n",
       " 'golf',\n",
       " 'sculpture',\n",
       " 'earth',\n",
       " 'applied_science',\n",
       " 'artisanship']"
      ]
     },
     "execution_count": 7,
     "metadata": {},
     "output_type": "execute_result"
    }
   ],
   "source": [
    "token._.wordnet.wordnet_domains()"
   ]
  },
  {
   "cell_type": "code",
   "execution_count": 8,
   "id": "6680362d-c8b2-4683-bd55-467787c7b504",
   "metadata": {},
   "outputs": [
    {
     "name": "stdout",
     "output_type": "stream",
     "text": [
      "I (neediness|privation|want|deprivation) (privation|deprivation|lack|neediness|deficiency|want) (privation|deprivation|need|lack|neediness|deficiency|require|want) to (take_out|draw_off|draw|withdraw) 5,000 euros .\n"
     ]
    }
   ],
   "source": [
    "domains = [\"finance\", \"banking\"]\n",
    "sentence = nlp(\"I want to withdraw 5,000 euros.\")\n",
    "\n",
    "enriched_sent = []\n",
    "\n",
    "for token in sentence:\n",
    "    # get synsets within the desired domains\n",
    "    synsets = token._.wordnet.wordnet_synsets_for_domain(domains)\n",
    "    \n",
    "    if synsets:\n",
    "        lemmas_for_synset = []\n",
    "        \n",
    "        for s in synsets:\n",
    "            # get synset variants and add to the enriched sentence\n",
    "            lemmas_for_synset.extend(s.lemma_names())\n",
    "            enriched_sent.append(\"({})\".format(\"|\".join(set(lemmas_for_synset))))\n",
    "    else:\n",
    "        enriched_sent.append(token.text)\n",
    "\n",
    "print(\" \".join(enriched_sent))"
   ]
  },
  {
   "cell_type": "code",
   "execution_count": 9,
   "id": "7a5e3fbd-4c21-427b-a60d-9a1c3e11d507",
   "metadata": {},
   "outputs": [
    {
     "data": {
      "text/html": [
       "<div style=\"font-family:monospace;background:#e6fee6;color:black\"><pre>Packages already installed: scattertext</pre></div>"
      ],
      "text/plain": [
       "<IPython.core.display.HTML object>"
      ]
     },
     "metadata": {},
     "output_type": "display_data"
    },
    {
     "data": {
      "text/html": [
       "<div style=\"font-family:monospace;background:lightyellow;color:black\"><pre>No new packages installed</pre></div>"
      ],
      "text/plain": [
       "<IPython.core.display.HTML object>"
      ]
     },
     "metadata": {},
     "output_type": "display_data"
    },
    {
     "data": {
      "text/html": [
       "<div style=\"font-family:monospace;background:#eee;color:black\"><pre>Done</pre></div>"
      ],
      "text/plain": [
       "<IPython.core.display.HTML object>"
      ]
     },
     "metadata": {},
     "output_type": "display_data"
    }
   ],
   "source": [
    "ipydeps.pip('scattertext')"
   ]
  },
  {
   "cell_type": "code",
   "execution_count": 16,
   "id": "80fbfcf6-1afc-4587-980f-f2be8fed4150",
   "metadata": {},
   "outputs": [],
   "source": [
    "import scattertext as st\n",
    "\n",
    "if \"merge_entities\" not in nlp.pipe_names:\n",
    "    nlp.add_pipe(\"merge_entities\")\n",
    "\n",
    "if \"merge_noun_chunks\" not in nlp.pipe_names:\n",
    "    nlp.add_pipe(\"merge_noun_chunks\")\n",
    "\n",
    "convention_df = st.SampleCorpora.ConventionData2012.get_data()\n",
    "corpus = st.CorpusFromPandas(convention_df,\n",
    "                             category_col=\"party\",\n",
    "                             text_col=\"text\",\n",
    "                             nlp=nlp).build()\n"
   ]
  },
  {
   "cell_type": "code",
   "execution_count": 17,
   "id": "699b8622-2d5d-4039-8db3-d597bc1b1f82",
   "metadata": {},
   "outputs": [],
   "source": [
    "ht = st.produce_scattertext_explorer(corpus, category=\"democrat\", \n",
    "                                       category_name=\"Democratic\",\n",
    "                                       not_category_name=\"Republican\",\n",
    "                                       width_in_pixels=1000,\n",
    "                                       metadata=convention_df[\"speaker\"])"
   ]
  },
  {
   "cell_type": "code",
   "execution_count": 18,
   "id": "39e460dd-01eb-4ef7-8162-52bcbb5edf3c",
   "metadata": {},
   "outputs": [],
   "source": [
    "from IPython.display import IFrame\n",
    "from IPython.core.display import display, HTML"
   ]
  },
  {
   "cell_type": "code",
   "execution_count": 19,
   "id": "944f3068-e4bd-496d-b184-acd0a88ae5a5",
   "metadata": {},
   "outputs": [
    {
     "data": {
      "text/html": [
       "\n",
       "        <iframe\n",
       "            width=\"1200\"\n",
       "            height=\"700\"\n",
       "            src=\"foo.html\"\n",
       "            frameborder=\"0\"\n",
       "            allowfullscreen\n",
       "            \n",
       "        ></iframe>\n",
       "        "
      ],
      "text/plain": [
       "<IPython.lib.display.IFrame at 0x7fe2a99f4dc0>"
      ]
     },
     "execution_count": 19,
     "metadata": {},
     "output_type": "execute_result"
    }
   ],
   "source": [
    "file_name = \"foo.html\"\n",
    "\n",
    "with open(file_name, \"wb\") as f:\n",
    "    f.write(ht.encode(\"utf-8\"))\n",
    "\n",
    "IFrame(src=file_name, width = 1200, height=700)"
   ]
  },
  {
   "cell_type": "code",
   "execution_count": null,
   "id": "51c1aaa5-f73c-49e0-9677-1709cd8b00ce",
   "metadata": {},
   "outputs": [],
   "source": []
  },
  {
   "cell_type": "code",
   "execution_count": null,
   "id": "60927e47-8ce0-4273-9c59-623fb756d44a",
   "metadata": {},
   "outputs": [],
   "source": []
  }
 ],
 "metadata": {
  "kernelspec": {
   "display_name": "Python 3 (ipykernel)",
   "language": "python",
   "name": "python3"
  },
  "language_info": {
   "codemirror_mode": {
    "name": "ipython",
    "version": 3
   },
   "file_extension": ".py",
   "mimetype": "text/x-python",
   "name": "python",
   "nbconvert_exporter": "python",
   "pygments_lexer": "ipython3",
   "version": "3.9.7"
  }
 },
 "nbformat": 4,
 "nbformat_minor": 5
}
